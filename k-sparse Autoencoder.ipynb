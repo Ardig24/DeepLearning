{
 "cells": [
  {
   "cell_type": "code",
   "execution_count": null,
   "id": "8b572f13",
   "metadata": {},
   "outputs": [
    {
     "name": "stderr",
     "output_type": "stream",
     "text": [
      "                                                           \r"
     ]
    },
    {
     "name": "stdout",
     "output_type": "stream",
     "text": [
      "Epoch 10, Training Loss: 0.04995959337506849\n"
     ]
    },
    {
     "name": "stderr",
     "output_type": "stream",
     "text": [
      "                                                           \r"
     ]
    },
    {
     "name": "stdout",
     "output_type": "stream",
     "text": [
      "Epoch 20, Training Loss: 0.10429519001068845\n"
     ]
    },
    {
     "name": "stderr",
     "output_type": "stream",
     "text": [
      "                                                           \r"
     ]
    },
    {
     "name": "stdout",
     "output_type": "stream",
     "text": [
      "Epoch 30, Training Loss: 0.10896705435727959\n",
      "Training complete!\n",
      "Final Training Loss: 0.10896705435727959\n"
     ]
    }
   ],
   "source": [
    "import torch\n",
    "import torch.nn as nn\n",
    "import torch.optim as optim\n",
    "import torch.nn.functional as F\n",
    "from torch.utils.data import DataLoader\n",
    "from torchvision import datasets, transforms\n",
    "from torchvision.utils import save_image\n",
    "from tqdm import tqdm\n",
    "import os\n",
    "\n",
    "# Set device\n",
    "device = torch.device('cuda' if torch.cuda.is_available() else 'cpu')\n",
    "\n",
    "# Make the `images` directory\n",
    "def make_dir():\n",
    "    image_dir = '../outputs/images'\n",
    "    if not os.path.exists(image_dir):\n",
    "        os.makedirs(image_dir)\n",
    "make_dir()\n",
    "\n",
    "# Sparse Autoencoder Model\n",
    "class SparseAutoencoder(nn.Module):\n",
    "    def __init__(self):\n",
    "        super(SparseAutoencoder, self).__init__()\n",
    "        self.enc1 = nn.Linear(784, 3136)\n",
    "        self.enc2 = nn.Linear(3136, 1568)\n",
    "        self.dec1 = nn.Linear(1568, 3136)\n",
    "        self.dec2 = nn.Linear(3136, 784)\n",
    "\n",
    "    def forward(self, x):\n",
    "        x = F.relu(self.enc1(x))\n",
    "        x = F.relu(self.enc2(x))\n",
    "        x = F.relu(self.dec1(x))\n",
    "        x = F.relu(self.dec2(x))\n",
    "        return x\n",
    "\n",
    "# Function to save decoded images\n",
    "def save_decoded_image(img, name):\n",
    "    img = img.view(img.size(0), 1, 28, 28)\n",
    "    save_image(img, name)\n",
    "\n",
    "# Sparse loss function\n",
    "def sparse_loss(model, inputs):\n",
    "    loss = 0\n",
    "    values = inputs\n",
    "    for layer in model.children():\n",
    "        values = layer(values)\n",
    "        loss += torch.mean(torch.abs(values))\n",
    "    return loss\n",
    "\n",
    "# Training function\n",
    "def train(model, train_loader, criterion, optimizer, k_sparse):\n",
    "    model.train()\n",
    "    running_loss = 0.0\n",
    "\n",
    "    for inputs, _ in tqdm(train_loader, desc=f\"Training\", leave=False):\n",
    "        inputs = inputs.view(-1, 28 * 28).to(device)\n",
    "        optimizer.zero_grad()\n",
    "\n",
    "        outputs = model(inputs)\n",
    "\n",
    "        # Reconstruction loss\n",
    "        recon_loss = criterion(outputs, inputs)\n",
    "\n",
    "        # Sparse loss\n",
    "        sparse_loss_value = sparse_loss(model, inputs)\n",
    "\n",
    "        # Total loss\n",
    "        loss = recon_loss + 0.1 * sparse_loss_value  # Adjust the weight of the sparse loss\n",
    "\n",
    "        loss.backward()\n",
    "        optimizer.step()\n",
    "\n",
    "        running_loss += loss.item()\n",
    "\n",
    "    epoch_loss = running_loss / len(train_loader)\n",
    "    return epoch_loss\n",
    "\n",
    "# Hyperparameters\n",
    "num_epochs = 30\n",
    "batch_size = 64\n",
    "learning_rate = 1e-3\n",
    "weight_decay = 1e-5\n",
    "k_sparse = 10  # Number of neurons to keep active\n",
    "\n",
    "# DataLoader\n",
    "transform = transforms.ToTensor()\n",
    "train_dataset = datasets.MNIST(root='./data', download=True, train=True, transform=transform)\n",
    "train_loader = DataLoader(dataset=train_dataset, batch_size=batch_size, shuffle=True)\n",
    "test_dataset = datasets.MNIST(root='./data', download=True, train=False, transform=transform)\n",
    "test_loader = DataLoader(dataset=test_dataset, batch_size=64, shuffle=False)\n",
    "\n",
    "# Model, optimizer, and criterion\n",
    "model = SparseAutoencoder().to(device)\n",
    "optimizer = optim.Adam(model.parameters(), lr=learning_rate, weight_decay=weight_decay)\n",
    "criterion = nn.MSELoss()\n",
    "\n",
    "# Training loop\n",
    "train_losses = []\n",
    "for epoch in range(num_epochs):\n",
    "    train_loss = train(model, train_loader, criterion, optimizer, k_sparse)\n",
    "    train_losses.append(train_loss)\n",
    "\n",
    "    if epoch % 10 == 9:\n",
    "        print(f\"Epoch {epoch + 1}, Training Loss: {train_loss}\")\n",
    "\n",
    "# Save and visualize reconstructed images\n",
    "with torch.no_grad():\n",
    "    model.eval()\n",
    "    for batch in test_loader:\n",
    "        inputs, _ = batch\n",
    "        inputs = inputs.view(-1, 28 * 28).to(device)\n",
    "        outputs = model(inputs)\n",
    "        save_decoded_image(inputs.cpu().data, f\"../outputs/images/input_image.png\")\n",
    "        save_decoded_image(outputs.cpu().data, f\"../outputs/images/reconstructed_image.png\")\n",
    "        break  # Save only one batch of images for brevity\n",
    "\n",
    "# Print final results\n",
    "print(\"Training complete!\")\n",
    "print(f\"Final Training Loss: {train_losses[-1]}\")\n",
    "\n",
    "# Plot the training loss curve\n",
    "import matplotlib.pyplot as plt\n",
    "\n",
    "plt.plot(train_losses, label='Training Loss')\n",
    "plt.xlabel('Epochs')\n",
    "plt.ylabel('Loss')\n",
    "plt.legend()\n",
    "plt.show()"
   ]
  }
 ],
 "metadata": {
  "kernelspec": {
   "display_name": "Python 3 (ipykernel)",
   "language": "python",
   "name": "python3"
  },
  "language_info": {
   "codemirror_mode": {
    "name": "ipython",
    "version": 3
   },
   "file_extension": ".py",
   "mimetype": "text/x-python",
   "name": "python",
   "nbconvert_exporter": "python",
   "pygments_lexer": "ipython3",
   "version": "3.11.5"
  }
 },
 "nbformat": 4,
 "nbformat_minor": 5
}
