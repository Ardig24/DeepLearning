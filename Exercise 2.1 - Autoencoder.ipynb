{
 "cells": [
  {
   "cell_type": "code",
   "execution_count": 1,
   "id": "d1873e52",
   "metadata": {},
   "outputs": [],
   "source": [
    "#Imports\n",
    "\n",
    "import torch\n",
    "import torch.nn as nn\n",
    "import torch.optim as optim\n",
    "import torch.nn.functional as F\n",
    "from torch.utils.data import DataLoader\n",
    "from torchvision import datasets, transforms\n",
    "import matplotlib.pyplot as plt"
   ]
  },
  {
   "cell_type": "code",
   "execution_count": 2,
   "id": "a4d3d18c",
   "metadata": {},
   "outputs": [],
   "source": [
    "transform = transforms.ToTensor()\n",
    "\n",
    "train_dataset = datasets.MNIST(root ='./data', download = True, train = True, transform = transform)\n",
    "test_dataset = datasets.MNIST(root='./data', download=True, train=False, transform=transform)\n",
    "val_dataset = datasets.MNIST(root='./data', download=True, train=False, transform=transform)"
   ]
  },
  {
   "cell_type": "code",
   "execution_count": 3,
   "id": "94ba4313",
   "metadata": {},
   "outputs": [],
   "source": [
    "train_loader = DataLoader(dataset=train_dataset, batch_size=64, shuffle=True)\n",
    "test_loader = DataLoader(dataset=test_dataset, batch_size=64, shuffle=False)\n",
    "val_loader = DataLoader(dataset=val_dataset, batch_size=64, shuffle=False)"
   ]
  },
  {
   "cell_type": "code",
   "execution_count": 4,
   "id": "2f6da135",
   "metadata": {},
   "outputs": [
    {
     "name": "stdout",
     "output_type": "stream",
     "text": [
      "tensor(0.) tensor(1.)\n"
     ]
    }
   ],
   "source": [
    "dataiter = iter(train_loader)\n",
    "\n",
    "images, labels = next(dataiter)\n",
    "\n",
    "print(torch.min(images), torch.max(images))"
   ]
  },
  {
   "cell_type": "code",
   "execution_count": 5,
   "id": "a47b5169",
   "metadata": {},
   "outputs": [],
   "source": [
    "#Create Network\n",
    "\n",
    "class Autoencoder(nn.Module):\n",
    "    def __init__(self):\n",
    "        super(Autoencoder, self).__init__()\n",
    "        self.encoder = nn.Sequential(\n",
    "            nn.Linear(28*28, 392),   # --> N,784 to N, 128\n",
    "            nn.ReLU(),\n",
    "            nn.Linear(392, 196)    # N,64\n",
    "        ) \n",
    "       \n",
    "        self.decoder = nn.Sequential(\n",
    "            nn.Linear(196, 392),  # --> N,64 to N, 128\n",
    "            nn.ReLU(),\n",
    "            nn.Linear(392, 28*28),    # N,784\n",
    "            nn.Sigmoid()\n",
    "            \n",
    "        )\n",
    "            \n",
    "            \n",
    "    def forward(self, x):\n",
    "        encoded = self.encoder(x)\n",
    "        decoded = self.decoder(encoded)\n",
    "        return decoded"
   ]
  },
  {
   "cell_type": "code",
   "execution_count": 6,
   "id": "640f4b33",
   "metadata": {
    "scrolled": false
   },
   "outputs": [
    {
     "name": "stdout",
     "output_type": "stream",
     "text": [
      "Epoch 10, Training Loss: 0.005600504336386188\n",
      "Epoch 10, Validation Loss: 0.005411372220464003\n",
      "Epoch 20, Training Loss: 0.005276228320588276\n",
      "Epoch 20, Validation Loss: 0.005152021788333537\n",
      "Epoch 30, Training Loss: 0.005195708063715048\n",
      "Epoch 30, Validation Loss: 0.005019845406874825\n",
      "Epoch 40, Training Loss: 0.005074004642168946\n",
      "Epoch 40, Validation Loss: 0.004868236612113323\n",
      "Epoch 50, Training Loss: 0.00503081348843809\n",
      "Epoch 50, Validation Loss: 0.0048875811919095406\n"
     ]
    }
   ],
   "source": [
    "model = Autoencoder()\n",
    "\n",
    "criterion = nn.MSELoss()\n",
    "\n",
    "optimizer = torch.optim.Adam(model.parameters(), lr=1e-3, weight_decay=1e-5)\n",
    "\n",
    "num_epochs = 50\n",
    "\n",
    "\n",
    "train_losses = []\n",
    "val_losses = []\n",
    "\n",
    "for epoch in range(num_epochs):\n",
    "    running_loss = 0.0\n",
    "    for inputs, data in enumerate(train_loader, 0):\n",
    "        inputs, labels = data\n",
    "        inputs = inputs.reshape(-1, 28*28)\n",
    "        optimizer.zero_grad()\n",
    "        outputs = model(inputs)\n",
    "        loss = criterion(outputs, inputs)\n",
    "        loss.backward()\n",
    "        optimizer.step()\n",
    "\n",
    "        running_loss += loss.item()\n",
    "\n",
    "    epoch_loss = running_loss / len(train_loader)\n",
    "    train_losses.append(epoch_loss)\n",
    "\n",
    "    if epoch % 10 == 9:\n",
    "        print(f\"Epoch {epoch + 1}, Training Loss: {epoch_loss}\")\n",
    "\n",
    "    # Validation loss\n",
    "    val_running_loss = 0.0\n",
    "    for val_data in val_loader:\n",
    "        val_inputs, val_labels = val_data\n",
    "        val_inputs = val_inputs.reshape(-1, 28*28)\n",
    "        val_outputs = model(val_inputs)\n",
    "        val_loss = criterion(val_outputs, val_inputs)\n",
    "        val_running_loss += val_loss.item()\n",
    "\n",
    "    val_epoch_loss = val_running_loss / len(val_loader)\n",
    "    val_losses.append(val_epoch_loss)\n",
    "\n",
    "    if epoch % 10 == 9:\n",
    "        print(f\"Epoch {epoch + 1}, Validation Loss: {val_epoch_loss}\")\n",
    "    "
   ]
  },
  {
   "cell_type": "code",
   "execution_count": 7,
   "id": "fe2f0c85",
   "metadata": {},
   "outputs": [],
   "source": []
  },
  {
   "cell_type": "code",
   "execution_count": 8,
   "id": "7c72bbd2",
   "metadata": {},
   "outputs": [],
   "source": []
  },
  {
   "cell_type": "code",
   "execution_count": 9,
   "id": "6e28528a",
   "metadata": {},
   "outputs": [],
   "source": []
  },
  {
   "cell_type": "code",
   "execution_count": 10,
   "id": "53557cfe",
   "metadata": {},
   "outputs": [],
   "source": []
  },
  {
   "cell_type": "code",
   "execution_count": 11,
   "id": "2122b74b",
   "metadata": {},
   "outputs": [],
   "source": []
  }
 ],
 "metadata": {
  "kernelspec": {
   "display_name": "Python 3 (ipykernel)",
   "language": "python",
   "name": "python3"
  },
  "language_info": {
   "codemirror_mode": {
    "name": "ipython",
    "version": 3
   },
   "file_extension": ".py",
   "mimetype": "text/x-python",
   "name": "python",
   "nbconvert_exporter": "python",
   "pygments_lexer": "ipython3",
   "version": "3.11.5"
  }
 },
 "nbformat": 4,
 "nbformat_minor": 5
}
