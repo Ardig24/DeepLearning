{
 "cells": [
  {
   "cell_type": "code",
   "execution_count": null,
   "id": "cbae5c85-4b95-4a98-9c8e-ac4b717a7dd4",
   "metadata": {
    "tags": []
   },
   "outputs": [],
   "source": [
    "import torch\n",
    "import torch.nn as nn\n",
    "import torch.optim as optim\n",
    "from torchvision import datasets, transforms\n",
    "from torch.utils.data import DataLoader\n",
    "import torch.nn.functional as F\n",
    "from torch.utils.data import TensorDataset\n",
    "from torch.optim.lr_scheduler import StepLR\n",
    "\n",
    "# Load dataset\n",
    "\n",
    "transform = transforms.Compose([transforms.ToTensor()])\n",
    "\n",
    "train_dataset = datasets.MNIST(root='./data', download=True, train=True, transform=transform)\n",
    "test_dataset = datasets.MNIST(root='./data', download=True, train=False, transform=transform)\n",
    "\n",
    "train_loader = DataLoader(dataset=train_dataset, batch_size=128, shuffle=True)\n",
    "test_loader = DataLoader(dataset=test_dataset, batch_size=128, shuffle=False)\n"
   ]
  },
  {
   "cell_type": "code",
   "execution_count": null,
   "id": "e42054e4",
   "metadata": {},
   "outputs": [],
   "source": [
    "class CustomConvLayer(nn.Module):\n",
    "    def __init__(self, in_channels, out_channels, kernel_size, dilation, stride, padding):\n",
    "        super(CustomConvLayer, self).__init__()\n",
    "        self.conv = nn.Conv2d(in_channels, out_channels, kernel_size, dilation=dilation, stride=stride, padding=padding)\n",
    "\n",
    "    def forward(self, x):\n",
    "        out = self.conv(x)\n",
    "        windows = torch.nn.functional.unfold(x, kernel_size=self.conv.kernel_size, dilation=self.conv.dilation[0], stride=self.conv.stride[0], padding=self.conv.padding[0])\n",
    "        windows = windows.reshape(x.shape[0], 1, self.conv.in_channels * self.conv.kernel_size[0]**2, out.shape[-2], out.shape[-1])\n",
    "        return out, windows\n"
   ]
  },
  {
   "cell_type": "code",
   "execution_count": null,
   "id": "9d882209",
   "metadata": {},
   "outputs": [],
   "source": [
    "class CustomMaxPoolLayer(nn.Module):\n",
    "    def __init__(self, kernel_size, dilation, stride):\n",
    "        super(CustomMaxPoolLayer, self).__init__()\n",
    "        self.max_pool = nn.MaxPool2d(kernel_size=kernel_size, dilation=dilation, stride=stride)\n",
    "\n",
    "    def forward(self, x):\n",
    "        out = self.max_pool(x)\n",
    "        return out"
   ]
  },
  {
   "cell_type": "code",
   "execution_count": null,
   "id": "8e8c624c-0aae-445f-af88-97c09952821f",
   "metadata": {
    "tags": []
   },
   "outputs": [],
   "source": [
    "class SimpleCNN(nn.Module):\n",
    "    def __init__(self):\n",
    "        super(SimpleCNN, self).__init__()\n",
    "\n",
    "        self.conv1 = CustomConvLayer(in_channels=1, out_channels=32, kernel_size=3, dilation=2, stride=1, padding=1)\n",
    "        self.maxpool1 = nn.MaxPool2d(kernel_size=3, dilation=2, stride=2)\n",
    "        self.conv2 = CustomConvLayer(in_channels=32, out_channels=64, kernel_size=3, dilation=2, stride=1, padding=1)\n",
    "        self.maxpool2 = nn.MaxPool2d(kernel_size=3, dilation=2, stride=2)\n",
    "\n",
    "        self.fc1 = nn.Linear(576, 512) \n",
    "        self.dropout1 = nn.Dropout(0.5)\n",
    "        self.fc2 = nn.Linear(512, 10)  \n",
    "\n",
    "    def forward(self, x):\n",
    "        x, _ = self.conv1(x)\n",
    "        x = F.relu(x)\n",
    "        x = self.maxpool1(x)\n",
    "\n",
    "        x, _ = self.conv2(x)\n",
    "        x = F.relu(x)\n",
    "        x = self.maxpool2(x)\n",
    "\n",
    "        x = x.view(x.size(0), -1)\n",
    "\n",
    "        x = F.relu(self.fc1(x))\n",
    "        x = self.fc2(x)\n",
    "\n",
    "        return x"
   ]
  },
  {
   "cell_type": "code",
   "execution_count": null,
   "id": "32fe3424",
   "metadata": {
    "scrolled": false
   },
   "outputs": [],
   "source": [
    "device = torch.device(\"cuda\" if torch.cuda.is_available() else \"cpu\")\n",
    "model = SimpleCNN()\n",
    "model.to('cuda')\n",
    "criterion = nn.CrossEntropyLoss()\n",
    "optimizer = optim.Adam(model.parameters(), lr=0.001)\n",
    "scheduler = StepLR(optimizer, step_size=3, gamma=0.1)\n",
    "torch.nn.utils.clip_grad_norm_(model.parameters(), max_norm=1.0)\n",
    "\n",
    "\n",
    "dummy_input = torch.randn(1, 1, 28, 28).to('cuda')\n",
    "\n",
    "\n",
    "output = model(dummy_input)\n",
    "\n",
    "num_epochs = 200\n",
    "\n",
    "for epoch in range(num_epochs):\n",
    "    model.train()\n",
    "    running_loss = 0.0\n",
    "    for batch_idx, (data, target) in enumerate(train_loader):\n",
    "        data, target = data.to(device), target.to(device)\n",
    "\n",
    "        optimizer.zero_grad()\n",
    "        output = model(data)\n",
    "        loss = criterion(output, target)\n",
    "        loss.backward()\n",
    "        optimizer.step()\n",
    "\n",
    "        running_loss += loss.item()\n",
    "\n",
    "    epoch_loss = running_loss / len(train_loader)\n",
    "\n",
    "    print(f\"Epoch {epoch+1}/{num_epochs}, Training Loss: {epoch_loss}\")\n",
    "\n",
    "    model.eval()\n",
    "    with torch.no_grad():\n",
    "        correct = 0\n",
    "        total = 0\n",
    "        for data, target in test_loader:\n",
    "            data, target = data.to(device), target.to(device)\n",
    "            output = model(data)\n",
    "            _, predicted = torch.max(output.data, 1)\n",
    "            total += target.size(0)\n",
    "            correct += (predicted == target).sum().item()\n",
    "\n",
    "        accuracy = correct / total\n",
    "        print(f\"Epoch {epoch+1}/{num_epochs}, Test Accuracy: {accuracy * 100:.2f}%\")\n"
   ]
  }
 ],
 "metadata": {
  "kernelspec": {
   "display_name": "Python 3 (ipykernel)",
   "language": "python",
   "name": "python3"
  },
  "language_info": {
   "codemirror_mode": {
    "name": "ipython",
    "version": 3
   },
   "file_extension": ".py",
   "mimetype": "text/x-python",
   "name": "python",
   "nbconvert_exporter": "python",
   "pygments_lexer": "ipython3",
   "version": "3.11.5"
  }
 },
 "nbformat": 4,
 "nbformat_minor": 5
}
